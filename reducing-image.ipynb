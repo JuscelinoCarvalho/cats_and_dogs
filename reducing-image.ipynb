{
 "cells": [
  {
   "cell_type": "code",
   "execution_count": 3,
   "metadata": {},
   "outputs": [],
   "source": [
    "import numpy as np\n",
    "import cv2\n",
    "\n",
    "def gray_to_bw(img, threshold=120):\n",
    "    \"\"\"\n",
    "    Converte uma imagem em tons de cinza para preto e branco com um limiar.\n",
    "    Onde o limiar (threshold) marca um pixel limite separando a imagem para\n",
    "    marcar branco para qualquer cor e ton acima dela e marcar preto para\n",
    "    qualquer cor e ton abaixo dela. \n",
    "    \"\"\"\n",
    "    img_bw = np.where(img > threshold, 255, 0).astype(np.uint8)\n",
    "    return img_bw\n",
    "\n",
    "def rgb_to_gray(R, G, B):\n",
    "    \"\"\"Converte uma imagem RGB para tons de cinza manualmente.\"\"\"\n",
    "    cinza = (0.299 * R + 0.587 * G + 0.114 * B).astype(np.uint8)\n",
    "    return cinza\n",
    "\n",
    "# Caminho da imagem\n",
    "pathImg2 = \"C:\\\\Users\\\\jkarv\\\\OneDrive\\\\Imagens\\\\2023-07-18.jpg\"\n",
    "\n",
    "# Carrega a imagem em RGB\n",
    "img = cv2.imread(pathImg2)\n",
    "\n",
    "# Certifique-se de que a imagem foi carregada\n",
    "if img is None:\n",
    "    print(\"Erro ao carregar a imagem.\")\n",
    "    exit()\n",
    "\n",
    "# Converte para tons de cinza usando a função personalizada\n",
    "imgGray = rgb_to_gray(img[:, :, 2], img[:, :, 1], img[:, :, 0])  # OpenCV usa BGR\n",
    "\n",
    "# Aplica o blur\n",
    "suave = cv2.GaussianBlur(imgGray, (7, 7), 0)\n",
    "\n",
    "# Converte para preto e branco\n",
    "bin = gray_to_bw(imgGray.copy())\n",
    "\n",
    "\n",
    "cv2.imshow('Colored', img)\n",
    "cv2.imshow('Gray', imgGray)\n",
    "cv2.imshow('Blur', suave)\n",
    "cv2.imshow('B&W', bin)\n",
    "\n",
    "\n",
    "# Exibe as imagens\n",
    "cv2.waitKey(0)\n",
    "cv2.destroyAllWindows()\n"
   ]
  }
 ],
 "metadata": {
  "kernelspec": {
   "display_name": "JkDataMasterEnv",
   "language": "python",
   "name": "python3"
  },
  "language_info": {
   "codemirror_mode": {
    "name": "ipython",
    "version": 3
   },
   "file_extension": ".py",
   "mimetype": "text/x-python",
   "name": "python",
   "nbconvert_exporter": "python",
   "pygments_lexer": "ipython3",
   "version": "3.12.8"
  }
 },
 "nbformat": 4,
 "nbformat_minor": 2
}
